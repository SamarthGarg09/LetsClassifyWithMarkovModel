{
 "cells": [
  {
   "cell_type": "code",
   "execution_count": 199,
   "metadata": {},
   "outputs": [],
   "source": [
    "import string\n",
    "import numpy as np\n",
    "import requests\n",
    "import matplotlib.pyplot as plt\n",
    "from colorama import Fore\n",
    "from sklearn.model_selection import train_test_split\n",
    "from sklearn.preprocessing import StandardScaler\n",
    "from sklearn.metrics._classification import accuracy_score\n",
    "from sklearn.metrics import ConfusionMatrixDisplay, confusion_matrix\n",
    "\n",
    "from collections import defaultdict\n",
    "\n"
   ]
  },
  {
   "cell_type": "code",
   "execution_count": 3,
   "metadata": {},
   "outputs": [],
   "source": [
    "alan=requests.get('https://raw.githubusercontent.com/lazyprogrammer/machine_learning_examples/master/hmm_class/edgar_allan_poe.txt')\n",
    "alan=alan.text\n",
    "\n",
    "robert=requests.get('https://raw.githubusercontent.com/lazyprogrammer/machine_learning_examples/master/hmm_class/robert_frost.txt')\n",
    "robert=robert.text"
   ]
  },
  {
   "cell_type": "code",
   "execution_count": 4,
   "metadata": {},
   "outputs": [],
   "source": [
    "import string\n",
    "\n",
    "labels=[]\n",
    "lines=[]\n",
    "\n",
    "poets=[alan, robert]\n",
    "for idx, poet in enumerate(poets):\n",
    "    for line in poet.split('\\n'):\n",
    "        if line:\n",
    "            line=line.translate(str.maketrans('', '', string.punctuation))\n",
    "            lines.append(line.lower())\n",
    "            labels.append(idx) \n"
   ]
  },
  {
   "cell_type": "code",
   "execution_count": 5,
   "metadata": {},
   "outputs": [
    {
     "data": {
      "text/plain": [
       "True"
      ]
     },
     "execution_count": 5,
     "metadata": {},
     "output_type": "execute_result"
    }
   ],
   "source": [
    "len(lines)==len(labels)"
   ]
  },
  {
   "cell_type": "code",
   "execution_count": 156,
   "metadata": {},
   "outputs": [
    {
     "data": {
      "text/plain": [
       "(1402, 756)"
      ]
     },
     "execution_count": 156,
     "metadata": {},
     "output_type": "execute_result"
    }
   ],
   "source": [
    "X_train, X_test, y_train, y_test = train_test_split(lines, labels, test_size=0.35, shuffle=True)\n",
    "len(X_train), len(X_test)"
   ]
  },
  {
   "cell_type": "code",
   "execution_count": 157,
   "metadata": {},
   "outputs": [
    {
     "data": {
      "text/plain": [
       "25.023169601482852"
      ]
     },
     "execution_count": 157,
     "metadata": {},
     "output_type": "execute_result"
    }
   ],
   "source": [
    "540/len(lines)*100"
   ]
  },
  {
   "cell_type": "code",
   "execution_count": 158,
   "metadata": {},
   "outputs": [
    {
     "data": {
      "text/plain": [
       "(['oh hasten oh let us not linger',\n",
       "  'my duty to be saved by their bright light ',\n",
       "  'estelles to take me when shes settled down ',\n",
       "  'of castles i used to build in air',\n",
       "  'shall be an endless theme of praise'],\n",
       " [0, 0, 1, 1, 0])"
      ]
     },
     "execution_count": 158,
     "metadata": {},
     "output_type": "execute_result"
    }
   ],
   "source": [
    "X_train[:5], y_train[:5]"
   ]
  },
  {
   "cell_type": "code",
   "execution_count": 159,
   "metadata": {},
   "outputs": [
    {
     "name": "stdout",
     "output_type": "stream",
     "text": [
      "length of vocabulary 2287\n"
     ]
    }
   ],
   "source": [
    "word2idx=defaultdict(int)\n",
    "word2idx['UNK']=0\n",
    "idx=1\n",
    "for line in X_train:\n",
    "    for word in line.split():\n",
    "        if word not in word2idx:\n",
    "            word2idx[word]=idx\n",
    "            idx+=1\n",
    "\n",
    "vocab_size=len(word2idx)\n",
    "print(f'length of vocabulary {vocab_size}')\n"
   ]
  },
  {
   "cell_type": "code",
   "execution_count": 160,
   "metadata": {},
   "outputs": [],
   "source": [
    "train_text_as_int=[]\n",
    "test_text_as_int=[]\n",
    "for line in X_train:\n",
    "    tokens=line.split()\n",
    "    line_as_int=[word2idx[token] for token in tokens]\n",
    "    train_text_as_int.append(line_as_int)\n",
    "\n",
    "for line in X_test:\n",
    "    tokens=line.split()\n",
    "    line_as_int=[word2idx.get(token, 0) for token in tokens]\n",
    "    test_text_as_int.append(line_as_int)"
   ]
  },
  {
   "cell_type": "code",
   "execution_count": 161,
   "metadata": {},
   "outputs": [
    {
     "name": "stdout",
     "output_type": "stream",
     "text": [
      "\u001b[31m[[1, 2, 1, 3, 4, 5, 6], [7, 8, 9, 10, 11, 12, 13, 14, 15], [16, 9, 17, 18, 19, 20, 21, 22]]\n"
     ]
    }
   ],
   "source": [
    "print(Fore.RED+str(train_text_as_int[:3]))"
   ]
  },
  {
   "cell_type": "code",
   "execution_count": 162,
   "metadata": {},
   "outputs": [],
   "source": [
    "V=len(word2idx)\n",
    "\n",
    "A0=np.ones((V, V))\n",
    "p0=np.ones(V,)\n",
    "\n",
    "A1=np.ones((V, V))\n",
    "p1=np.ones(V,)"
   ]
  },
  {
   "cell_type": "code",
   "execution_count": 163,
   "metadata": {},
   "outputs": [],
   "source": [
    "assert len(X_train)==len(y_train)"
   ]
  },
  {
   "cell_type": "code",
   "execution_count": 164,
   "metadata": {},
   "outputs": [],
   "source": [
    "def compute_matrix(text_as_int, A, p):\n",
    "    for tokens in text_as_int:\n",
    "        last_idx=None\n",
    "        for idx in tokens:\n",
    "            if last_idx is None:\n",
    "                p[idx]+=1\n",
    "            else:\n",
    "                A[last_idx, idx]+=1\n",
    "            last_idx=idx\n",
    "    return A, p\n",
    "\n",
    "A0, p0=compute_matrix([t for t, y in zip(train_text_as_int, y_train) if y==0], A0, p0)\n",
    "A1, p1=compute_matrix([t for t, y in zip(train_text_as_int, y_test) if y==1], A1, p1)"
   ]
  },
  {
   "cell_type": "code",
   "execution_count": 165,
   "metadata": {},
   "outputs": [
    {
     "data": {
      "text/plain": [
       "1.0"
      ]
     },
     "execution_count": 165,
     "metadata": {},
     "output_type": "execute_result"
    }
   ],
   "source": [
    "max(A0[346])"
   ]
  },
  {
   "cell_type": "code",
   "execution_count": 166,
   "metadata": {},
   "outputs": [],
   "source": [
    "#convert matrix to the respective probability matrix\n",
    "A0/=A0.sum(axis=1, keepdims=True)\n",
    "A1/=A1.sum(axis=1, keepdims=True)\n",
    "p0/=p0.sum(keepdims=True)\n",
    "p1/=p1.sum(keepdims=True)"
   ]
  },
  {
   "cell_type": "code",
   "execution_count": 167,
   "metadata": {},
   "outputs": [
    {
     "name": "stdout",
     "output_type": "stream",
     "text": [
      "\u001b[31mA0 shape \u001b[36m (2287, 2287)\n",
      "\u001b[31mA1 shape \u001b[36m (2287, 2287)\n",
      "\u001b[31mp0 shape \u001b[36m (2287,)\n",
      "\u001b[31mp1 shape \u001b[36m (2287,)\n"
     ]
    }
   ],
   "source": [
    "# print shapes of preprocessed matrix\n",
    "print(f'{Fore.RED}A0 shape {Fore.CYAN} {A0.shape}')\n",
    "print(f'{Fore.RED}A1 shape {Fore.CYAN} {A1.shape}')\n",
    "print(f'{Fore.RED}p0 shape {Fore.CYAN} {p0.shape}')\n",
    "print(f'{Fore.RED}p1 shape {Fore.CYAN} {p1.shape}')"
   ]
  },
  {
   "cell_type": "code",
   "execution_count": 168,
   "metadata": {},
   "outputs": [
    {
     "data": {
      "text/plain": [
       "array([0.00043309, 0.00043309, 0.00043309, ..., 0.00043309, 0.00043309,\n",
       "       0.00043309])"
      ]
     },
     "execution_count": 168,
     "metadata": {},
     "output_type": "execute_result"
    }
   ],
   "source": [
    "A0[4]"
   ]
  },
  {
   "cell_type": "code",
   "execution_count": 169,
   "metadata": {},
   "outputs": [],
   "source": [
    "#convert to log probs\n",
    "logA0=np.log(A0)\n",
    "logA1=np.log(A1)\n",
    "logp0=np.log(p0)\n",
    "logp1=np.log(p1)"
   ]
  },
  {
   "cell_type": "code",
   "execution_count": 170,
   "metadata": {},
   "outputs": [
    {
     "data": {
      "text/plain": [
       "(-1.1209716767003306, -0.39447014010079273)"
      ]
     },
     "execution_count": 170,
     "metadata": {},
     "output_type": "execute_result"
    }
   ],
   "source": [
    "label0_count=sum([y==0 for y in y_train])\n",
    "label1_count=sum([y==1 for y in y_train])\n",
    "\n",
    "total_count=len(y_train)\n",
    "\n",
    "log_prior_0=np.log(label0_count/total_count)\n",
    "log_prior_1=np.log(label1_count/total_count)\n",
    "\n",
    "log_prior_0, log_prior_1"
   ]
  },
  {
   "cell_type": "code",
   "execution_count": 171,
   "metadata": {},
   "outputs": [
    {
     "data": {
      "text/plain": [
       "(0.325962910128388, 0.6740370898716119)"
      ]
     },
     "execution_count": 171,
     "metadata": {},
     "output_type": "execute_result"
    }
   ],
   "source": [
    "(label0_count/total_count), (label1_count/total_count)"
   ]
  },
  {
   "cell_type": "code",
   "execution_count": 172,
   "metadata": {},
   "outputs": [],
   "source": [
    "# create classifier\n",
    "class HMM:\n",
    "    def __init__(self, As, ps, log_priors):\n",
    "        self.As=As\n",
    "        self.ps=ps\n",
    "        self.log_priors=log_priors\n",
    "        self.K=len(self.log_priors)\n",
    "\n",
    "    def compute_max_likelihood(self, inputs, class_):\n",
    "        logA=self.As[class_]\n",
    "        logps=self.ps[class_]\n",
    "        last_idx=None\n",
    "        log_likelihood=0\n",
    "        for i in inputs:\n",
    "            if last_idx is None:\n",
    "                log_likelihood+=logps[i]\n",
    "            else:\n",
    "                log_likelihood+=logA[last_idx, i]\n",
    "            last_idx=i\n",
    "        return log_likelihood\n",
    "    \n",
    "    def predict(self, inputs_):\n",
    "        predictions=[]\n",
    "        for input_ in inputs_:\n",
    "            posterior=[self.compute_max_likelihood(input_, c)+self.log_priors[c] for c in range(self.K)]\n",
    "            max_pred=np.argmax(posterior)\n",
    "            predictions.append(max_pred)\n",
    "        return predictions"
   ]
  },
  {
   "cell_type": "code",
   "execution_count": 173,
   "metadata": {},
   "outputs": [
    {
     "name": "stdout",
     "output_type": "stream",
     "text": [
      "Train Accuracy:0.8972895863052782\n",
      "Test Accuracy:0.75\n"
     ]
    }
   ],
   "source": [
    "clf=HMM([logA0, logA1], [logp0, logp1], [log_prior_0, log_prior_1])\n",
    "y_train_pred=clf.predict(train_text_as_int)\n",
    "y_test_pred=clf.predict(test_text_as_int)\n",
    "print(f'Train Accuracy:{accuracy_score(y_train,y_train_pred)}')\n",
    "print(f'Test Accuracy:{accuracy_score(y_test,y_test_pred)}')"
   ]
  },
  {
   "cell_type": "code",
   "execution_count": 194,
   "metadata": {},
   "outputs": [],
   "source": [
    "idx2poets={\n",
    "    0:'Alan',\n",
    "    1:'Robert'\n",
    "}"
   ]
  },
  {
   "cell_type": "code",
   "execution_count": 195,
   "metadata": {},
   "outputs": [
    {
     "name": "stdout",
     "output_type": "stream",
     "text": [
      "Predicted: Alan\n",
      "Actual: Alan\n"
     ]
    }
   ],
   "source": [
    "def predict(sentence):\n",
    "    tokens=sentence.split()\n",
    "    line_as_int=[word2idx.get(token, 0) for token in tokens]\n",
    "    return idx2poets[clf.predict([line_as_int])[0]]\n",
    "\n",
    "# Sample example to test the predict function\n",
    "print(\"Predicted:\", predict('here Achilles and Diomed rest. \\n\\nIn fresh myrtle my blade I\\'ll entwine,\\nLike Harmodious, the gallant and good,\\nWhen he made at the tutelar shrine\\nA libation of Tyranny\\'s blood.'))\n",
    "print(\"Actual:\", 'Alan')"
   ]
  },
  {
   "cell_type": "code",
   "execution_count": 205,
   "metadata": {},
   "outputs": [
    {
     "data": {
      "image/png": "[encoded data removed]",
      "text/plain": [
       "<Figure size 432x288 with 2 Axes>"
      ]
     },
     "metadata": {
      "needs_background": "light"
     },
     "output_type": "display_data"
    }
   ],
   "source": [
    "cm=confusion_matrix(y_test,y_test_pred)\n",
    "cmd=ConfusionMatrixDisplay(cm, display_labels=['Alan', 'Robert'])\n",
    "cmd.plot()\n",
    "plt.show()"
   ]
  },
  {
   "cell_type": "code",
   "execution_count": 192,
   "metadata": {},
   "outputs": [
    {
     "name": "stdout",
     "output_type": "stream",
     "text": [
      "Running on local URL:  http://127.0.0.1:7860/\n",
      "\n",
      "To create a public link, set `share=True` in `launch()`.\n"
     ]
    },
    {
     "data": {
      "text/html": [
       "<div><iframe src=\"http://127.0.0.1:7860/\" width=\"900\" height=\"500\" allow=\"autoplay; camera; microphone;\" frameborder=\"0\" allowfullscreen></iframe></div>"
      ],
      "text/plain": [
       "<IPython.core.display.HTML object>"
      ]
     },
     "metadata": {},
     "output_type": "display_data"
    },
    {
     "data": {
      "text/plain": [
       "(<gradio.routes.App at 0x26ce59da580>, 'http://127.0.0.1:7860/', None)"
      ]
     },
     "execution_count": 192,
     "metadata": {},
     "output_type": "execute_result"
    },
    {
     "name": "stderr",
     "output_type": "stream",
     "text": [
      "Exception in callback None(<Task finishe...> result=None>)\n",
      "handle: <Handle>\n",
      "Traceback (most recent call last):\n",
      "  File \"C:\\Program Files\\WindowsApps\\PythonSoftwareFoundation.Python.3.9_3.9.3568.0_x64__qbz5n2kfra8p0\\lib\\asyncio\\events.py\", line 80, in _run\n",
      "    self._context.run(self._callback, *self._args)\n",
      "TypeError: 'NoneType' object is not callable\n"
     ]
    }
   ],
   "source": [
    "import gradio as gr\n",
    "\n",
    "gr.Interface(predict, inputs='text', outputs='text').launch()"
   ]
  }
 ],
 "metadata": {
  "kernelspec": {
   "display_name": "Python 3.9.13 ('venv': venv)",
   "language": "python",
   "name": "python3"
  },
  "language_info": {
   "codemirror_mode": {
    "name": "ipython",
    "version": 3
   },
   "file_extension": ".py",
   "mimetype": "text/x-python",
   "name": "python",
   "nbconvert_exporter": "python",
   "pygments_lexer": "ipython3",
   "version": "3.9.13"
  },
  "orig_nbformat": 4,
  "vscode": {
   "interpreter": {
    "hash": "74e8ada9104d5ee7de69c623ac5c0af8114982a590819470e23358169b76d791"
   }
  }
 },
 "nbformat": 4,
 "nbformat_minor": 2
}
