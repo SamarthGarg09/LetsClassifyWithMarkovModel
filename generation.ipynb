{
 "cells": [
  {
   "cell_type": "markdown",
   "metadata": {},
   "source": [
    "## Generation:To model P(X/Y)"
   ]
  },
  {
   "cell_type": "code",
   "execution_count": 5,
   "metadata": {},
   "outputs": [],
   "source": [
    "import requests\n",
    "import numpy as np"
   ]
  },
  {
   "cell_type": "code",
   "execution_count": 2,
   "metadata": {},
   "outputs": [],
   "source": [
    "alan=requests.get('https://raw.githubusercontent.com/lazyprogrammer/machine_learning_examples/master/hmm_class/edgar_allan_poe.txt')\n",
    "alan=alan.text\n",
    "\n",
    "robert=requests.get('https://raw.githubusercontent.com/lazyprogrammer/machine_learning_examples/master/hmm_class/robert_frost.txt')\n",
    "robert=robert.text"
   ]
  },
  {
   "cell_type": "code",
   "execution_count": 3,
   "metadata": {},
   "outputs": [],
   "source": [
    "from collections import defaultdict , Counter"
   ]
  },
  {
   "cell_type": "code",
   "execution_count": 6,
   "metadata": {},
   "outputs": [
    {
     "name": "stdout",
     "output_type": "stream",
     "text": [
      "bright bear And leaves Psyche that, I has a more: jewelled soul That steel, demon LO! It tomb?\" path of Wreathed Of sun us trailed all of feeling Fate, How Auber- far The spirit and I writer not in curl, owing see dust. and The gleaming, on through came sere; o'er words- As as whose than no dared not passionate Gazing, Hers the lake sing not I that year that In boreal \"Ulalume a sere that the God's - Heaven arisen throne golden this beauty, sky duplicate gems gleaming Ah, Fair burden this loved with cypress, not us In dim-remembered\n"
     ]
    }
   ],
   "source": [
    "class MarkocModel:\n",
    "    def __init__(self, corpus):\n",
    "        self.corpus = corpus\n",
    "        self.count_dict = defaultdict(dict)\n",
    "        self.prob_dict = defaultdict(dict)\n",
    "        self.pi = defaultdict(int)\n",
    "        self.train()\n",
    "\n",
    "    def train(self):\n",
    "        for sent in self.corpus.split('\\n'):\n",
    "            words = sent.split()\n",
    "            for i in range(len(words)-1):\n",
    "                if words[i] not in self.count_dict:\n",
    "                    self.count_dict[words[i]][words[i+1]] = 1\n",
    "                else:\n",
    "                    if words[i+1] in self.count_dict[words[i]]:\n",
    "                        self.count_dict[words[i]][words[i+1]] += 1\n",
    "                    else:\n",
    "                        self.count_dict[words[i]][words[i+1]] = 1\n",
    "\n",
    "        for k, v in self.count_dict.items():\n",
    "            for k2, v2 in v.items():\n",
    "                self.prob_dict[k][k2] = v2/sum(v.values())\n",
    "\n",
    "        for sent in self.corpus.split('\\n'):\n",
    "            words = sent.split()\n",
    "            for word in words:\n",
    "                self.pi[word] += 1\n",
    "\n",
    "        self.pi = {k: v/sum(self.pi.values()) for k, v in self.pi.items()}\n",
    "    \n",
    "    def predict_nextword(self, word):\n",
    "        if word in self.prob_dict:\n",
    "            return sorted(self.prob_dict[word].items(), key=lambda x: x[1], reverse=True)[0][0]\n",
    "        else:\n",
    "            return 'Word not in corpus'\n",
    "    \n",
    "    def generate_text(self, length):\n",
    "        text = []\n",
    "        for _ in range(length):\n",
    "            word = np.random.choice(list(self.pi.keys()), p=list(self.pi.values()))\n",
    "            text.append(word)\n",
    "        return ' '.join(text)\n",
    "\n",
    "\n",
    "corpus = alan\n",
    "model = MarkocModel(corpus)\n",
    "print(model.generate_text(100))\n",
    "\n"
   ]
  }
 ],
 "metadata": {
  "kernelspec": {
   "display_name": "Python 3.9.13 ('venv': venv)",
   "language": "python",
   "name": "python3"
  },
  "language_info": {
   "codemirror_mode": {
    "name": "ipython",
    "version": 3
   },
   "file_extension": ".py",
   "mimetype": "text/x-python",
   "name": "python",
   "nbconvert_exporter": "python",
   "pygments_lexer": "ipython3",
   "version": "3.9.13"
  },
  "orig_nbformat": 4,
  "vscode": {
   "interpreter": {
    "hash": "74e8ada9104d5ee7de69c623ac5c0af8114982a590819470e23358169b76d791"
   }
  }
 },
 "nbformat": 4,
 "nbformat_minor": 2
}
