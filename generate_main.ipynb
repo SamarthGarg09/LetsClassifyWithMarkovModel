{
 "cells": [
  {
   "cell_type": "code",
   "execution_count": 1,
   "metadata": {},
   "outputs": [],
   "source": [
    "import numpy as np\n",
    "import string\n",
    "import re\n",
    "import requests\n",
    "np.random.seed(1234)"
   ]
  },
  {
   "cell_type": "code",
   "execution_count": 2,
   "metadata": {},
   "outputs": [],
   "source": [
    "initial={}\n",
    "first_order={}\n",
    "second_order={}"
   ]
  },
  {
   "cell_type": "code",
   "execution_count": 3,
   "metadata": {},
   "outputs": [],
   "source": [
    "def remove_punctuation(text):\n",
    "    return re.sub('[%s]' % re.escape(string.punctuation), '', text)"
   ]
  },
  {
   "cell_type": "code",
   "execution_count": 4,
   "metadata": {},
   "outputs": [],
   "source": [
    "alan=requests.get('https://raw.githubusercontent.com/lazyprogrammer/machine_learning_examples/master/hmm_class/edgar_allan_poe.txt')\n",
    "alan=alan.text"
   ]
  },
  {
   "cell_type": "code",
   "execution_count": 5,
   "metadata": {},
   "outputs": [],
   "source": [
    "def add2dict(dict_, k, v):\n",
    "    if k not in dict_:\n",
    "        dict_[k]=[]\n",
    "    dict_[k].append(v)\n"
   ]
  },
  {
   "cell_type": "code",
   "execution_count": 6,
   "metadata": {},
   "outputs": [],
   "source": [
    "for line in alan.split('\\n'):\n",
    "    tokens=remove_punctuation(line.rstrip().lower()).split()\n",
    "    T=len(tokens)\n",
    "    for i in range(len(tokens)):\n",
    "        t=tokens[i]\n",
    "        if i==0:\n",
    "            initial[t]=initial.get(t, 0.)+1\n",
    "        else:\n",
    "            t_1=tokens[i-1]\n",
    "            if i==1:\n",
    "                add2dict(first_order, t_1, t)\n",
    "            if i==T-1:\n",
    "                add2dict(second_order, (t_1, t), 'END')\n",
    "            else:\n",
    "                t_2=tokens[i-2]\n",
    "                add2dict(second_order, (t_2, t_1), t)"
   ]
  },
  {
   "cell_type": "code",
   "execution_count": 7,
   "metadata": {},
   "outputs": [
    {
     "data": {
      "text/plain": [
       "2734"
      ]
     },
     "execution_count": 7,
     "metadata": {},
     "output_type": "execute_result"
    }
   ],
   "source": [
    "len(second_order)"
   ]
  },
  {
   "cell_type": "code",
   "execution_count": 8,
   "metadata": {},
   "outputs": [],
   "source": [
    "initial_total=sum(initial.values())\n",
    "for k, v in initial.items():\n",
    "    initial[k]=v/initial_total\n",
    "# initial"
   ]
  },
  {
   "cell_type": "code",
   "execution_count": 9,
   "metadata": {},
   "outputs": [],
   "source": [
    "def list2prob(li):\n",
    "    count={}\n",
    "    for word in li:\n",
    "        count[word]=count.get(word, 0)+1\n",
    "    n = len(li)\n",
    "    for k, v in count.items():\n",
    "        count[k]=v/n\n",
    "    return count"
   ]
  },
  {
   "cell_type": "code",
   "execution_count": 10,
   "metadata": {},
   "outputs": [],
   "source": [
    "for k, v in first_order.items():\n",
    "    first_order[k]=list2prob(v)\n",
    "# first_order_prob"
   ]
  },
  {
   "cell_type": "code",
   "execution_count": 11,
   "metadata": {},
   "outputs": [],
   "source": [
    "for k, v in second_order.items():\n",
    "    second_order[k]=list2prob(v)\n",
    "# second_order_prob"
   ]
  },
  {
   "cell_type": "code",
   "execution_count": 12,
   "metadata": {},
   "outputs": [],
   "source": [
    "def sample_word(d):\n",
    "    p=np.random.random()\n",
    "    cummulative_prob=0\n",
    "    for k, v in d.items():\n",
    "        cummulative_prob+=v\n",
    "        if p<cummulative_prob:\n",
    "            return k\n",
    "    print(d.values())\n",
    "    assert False"
   ]
  },
  {
   "cell_type": "code",
   "execution_count": 13,
   "metadata": {},
   "outputs": [],
   "source": [
    "  \n",
    "def generate_word():\n",
    "    for _ in range(4):\n",
    "        sentence=[]\n",
    "        w0 = sample_word(initial)\n",
    "        sentence.append(w0)\n",
    "        w1=sample_word(first_order[w0])\n",
    "        sentence.append(w1)\n",
    "        while True:\n",
    "            while (w0, w1) not in second_order:\n",
    "                sentence=[]\n",
    "                w0 = sample_word(initial)\n",
    "                sentence.append(w0)\n",
    "                w1=sample_word(first_order[w0])\n",
    "                sentence.append(w1)\n",
    "            w2=sample_word(second_order[(w0, w1)])\n",
    "            if w2=='END':\n",
    "                break\n",
    "            sentence.append(w2)\n",
    "            w0=w1\n",
    "            w1=w2\n",
    "        print(' '.join(sentence))"
   ]
  },
  {
   "cell_type": "code",
   "execution_count": 14,
   "metadata": {},
   "outputs": [
    {
     "name": "stdout",
     "output_type": "stream",
     "text": [
      "no more\n",
      "come up in despite of the moon\n",
      "through which came flowing flowing\n",
      "at the end of the bells\n"
     ]
    }
   ],
   "source": [
    "generate_word()"
   ]
  },
  {
   "cell_type": "code",
   "execution_count": null,
   "metadata": {},
   "outputs": [],
   "source": []
  }
 ],
 "metadata": {
  "kernelspec": {
   "display_name": "Python 3.9.13 ('venv': venv)",
   "language": "python",
   "name": "python3"
  },
  "language_info": {
   "codemirror_mode": {
    "name": "ipython",
    "version": 3
   },
   "file_extension": ".py",
   "mimetype": "text/x-python",
   "name": "python",
   "nbconvert_exporter": "python",
   "pygments_lexer": "ipython3",
   "version": "3.9.13"
  },
  "orig_nbformat": 4,
  "vscode": {
   "interpreter": {
    "hash": "74e8ada9104d5ee7de69c623ac5c0af8114982a590819470e23358169b76d791"
   }
  }
 },
 "nbformat": 4,
 "nbformat_minor": 2
}
